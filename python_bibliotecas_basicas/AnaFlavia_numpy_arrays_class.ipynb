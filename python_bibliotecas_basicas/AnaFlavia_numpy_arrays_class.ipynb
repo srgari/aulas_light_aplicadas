{
 "cells": [
  {
   "cell_type": "markdown",
   "metadata": {},
   "source": [
    "### <center>Ana das Neves e os Sete Nerds</center> \n",
    "\n",
    "<center><img src=\"../../Presentation/1.jpg\" width=\"600\"></center>\n",
    "\n",
    "### <center>apresentam:</center>\n",
    "\n",
    "# <center><b>Introdução ao Numpy array</b></center>\n",
    "---\n",
    "\n",
    "### **ESTRUTURA DA AULA**\n",
    "\n",
    "#### [1. Revisão dos conceitos básicos:](#conceitos) \n",
    "> * Definição\n",
    "> * Comparação com listas\n",
    "> * Operações aritméticas\n",
    "\n",
    "#### [2. Criação e manipulação de arrays:](#funções)\n",
    "\n",
    "> * np.array (size, shape, dtype, ndim)\n",
    ">> * Acessando valores\n",
    "> * np.arange \n",
    "> * np.zeros\n",
    "> * np.ones\n",
    "> * np.identity\n",
    "> * np.eye\n",
    "> * np.full\n",
    "> * np.reshape\n",
    "> * np.ravel\n",
    "> * np.hstack\n",
    "> * np.vstack\n",
    "\n",
    "#### [3. Outras funções aplicadas a arrays:](#funções1)\n",
    "> * ndarray.mean\n",
    "> * ndarray.std\n",
    "> * ndarray.max\n",
    "> * ndarray.min\n",
    "---"
   ]
  },
  {
   "cell_type": "code",
   "execution_count": 2,
   "metadata": {},
   "outputs": [],
   "source": [
    "# Antes de começar, vamos importar a biblioteca necessária para essa aula\n",
    "import numpy as np"
   ]
  },
  {
   "cell_type": "markdown",
   "metadata": {},
   "source": [
    "---\n",
    "## 1. Conceitos básicos sobre arrays: <a name='conceitos'></a>\n",
    "\n",
    "> * Assim como listas, arrays são **coleções de dados**. \n",
    "> * Porém, diferente das listas, todos os dados de um array têm que ser do **mesmo tipo**.\n",
    "> * As arrays geradas pelo NumPy são chamadas de *N-dimensional arrays* ou *ndarray*.\n",
    "> * Em relação às listas, arrays utilizam **menos memória** e performam **mais eficientemente**.\n",
    "> * Operações aritméticas em arrays funcionam da mesma forma que operações em matrizes."
   ]
  },
  {
   "cell_type": "code",
   "execution_count": null,
   "metadata": {},
   "outputs": [],
   "source": [
    "arr = np.array([[ 0.9526, -0.246 , -0.8856], [ 0.5639, 0.2379, 0.9104]])\n",
    "arr"
   ]
  },
  {
   "cell_type": "code",
   "execution_count": null,
   "metadata": {},
   "outputs": [],
   "source": [
    "arr * 10"
   ]
  },
  {
   "cell_type": "code",
   "execution_count": null,
   "metadata": {},
   "outputs": [],
   "source": [
    "arr + arr"
   ]
  },
  {
   "cell_type": "code",
   "execution_count": null,
   "metadata": {},
   "outputs": [],
   "source": [
    "np.sin(arr)"
   ]
  },
  {
   "cell_type": "code",
   "execution_count": null,
   "metadata": {},
   "outputs": [],
   "source": [
    "np.exp(arr)"
   ]
  },
  {
   "cell_type": "markdown",
   "metadata": {},
   "source": [
    "---\n",
    "## 2. Criação e manipulação de arrays <a name='funções'></a>\n",
    "> ### **np.array**"
   ]
  },
  {
   "cell_type": "code",
   "execution_count": null,
   "metadata": {},
   "outputs": [],
   "source": [
    "ints = [1, 2, 3, 4, 5]\n",
    "\n",
    "np.array(ints)"
   ]
  },
  {
   "cell_type": "code",
   "execution_count": null,
   "metadata": {},
   "outputs": [],
   "source": [
    "arr_floats = np.array(ints, dtype=np.float)\n",
    "arr_floats"
   ]
  },
  {
   "cell_type": "code",
   "execution_count": null,
   "metadata": {},
   "outputs": [],
   "source": [
    "arr_2d = np.array([[12, 30], [8, 17], [7, 23]])\n",
    "arr_2d"
   ]
  },
  {
   "cell_type": "markdown",
   "metadata": {},
   "source": [
    "* **Atributos**"
   ]
  },
  {
   "cell_type": "code",
   "execution_count": null,
   "metadata": {},
   "outputs": [],
   "source": [
    "# shape\n",
    "arr_2d.shape"
   ]
  },
  {
   "cell_type": "code",
   "execution_count": null,
   "metadata": {},
   "outputs": [],
   "source": [
    "# size\n",
    "arr_2d.size"
   ]
  },
  {
   "cell_type": "code",
   "execution_count": null,
   "metadata": {},
   "outputs": [],
   "source": [
    "arr_floats.size"
   ]
  },
  {
   "cell_type": "code",
   "execution_count": null,
   "metadata": {},
   "outputs": [],
   "source": [
    "# ndim\n",
    "arr_2d.ndim"
   ]
  },
  {
   "cell_type": "code",
   "execution_count": null,
   "metadata": {},
   "outputs": [],
   "source": [
    "# dtype\n",
    "arr_floats.dtype"
   ]
  },
  {
   "cell_type": "code",
   "execution_count": null,
   "metadata": {},
   "outputs": [],
   "source": [
    "arr_2d.dtype"
   ]
  },
  {
   "cell_type": "markdown",
   "metadata": {},
   "source": [
    "> ### **Acessando valores**"
   ]
  },
  {
   "cell_type": "code",
   "execution_count": null,
   "metadata": {},
   "outputs": [],
   "source": [
    "# Os dados abaixo foram preprocessados.\n",
    "preprocessed_data = [[0.57777778, 0.44304699, 0., 0.5318491 ], [0., 0.94352159, 0., 0.00304139],\n",
    "                     [0.31111111, 0.36639772, 1., 0.34368261], [0.55555556, 0.13289037, 0., 0.07438692],\n",
    "                     [0.08888889, 0.22662553, 0., 0.], [0.28888889, 0., 0., 0.02148616],\n",
    "                     [0.28888889, 0.06430944, 0., 0.03694618], [1., 1., 0., 0.20096642],\n",
    "                     [0.42222222, 0.65045088, 0., 0.07194409], [0.28888889, 0.83981965, 1., 1.],\n",
    "                     [0.71111111, 0.28523968, 0., 0.11997307], [0.62222222, 0.61438064, 0., 0.11125571],\n",
    "                     [0.82222222, 0.05220693, 0., 0.15473179], [0.22222222, 0.10037969, 0., 0.04216163],\n",
    "                     [0., 0.51969625, 0., 0.04450218]]\n",
    "\n",
    "data = np.array(preprocessed_data)\n",
    "data"
   ]
  },
  {
   "cell_type": "code",
   "execution_count": null,
   "metadata": {},
   "outputs": [],
   "source": [
    "# Acessar um valor \n",
    "data[0][1]"
   ]
  },
  {
   "cell_type": "code",
   "execution_count": null,
   "metadata": {},
   "outputs": [],
   "source": [
    "# Mudar um valor\n",
    "data[2][1] = 0.37\n",
    "data"
   ]
  },
  {
   "cell_type": "code",
   "execution_count": null,
   "metadata": {},
   "outputs": [],
   "source": [
    "# Mudar a linha inteira\n",
    "data[14] = [0.4, 0.51969625, 1., 0.035]\n",
    "data"
   ]
  },
  {
   "cell_type": "code",
   "execution_count": null,
   "metadata": {},
   "outputs": [],
   "source": [
    "# Acessar um trecho\n",
    "data[::2,1:]"
   ]
  },
  {
   "cell_type": "markdown",
   "metadata": {},
   "source": [
    "> ### **np.arange**"
   ]
  },
  {
   "cell_type": "code",
   "execution_count": null,
   "metadata": {},
   "outputs": [],
   "source": [
    "# Funciona como a função 'range' para arrays\n",
    "np.arange(2,5,0.2)"
   ]
  },
  {
   "cell_type": "markdown",
   "metadata": {},
   "source": [
    "> ### **np.full**"
   ]
  },
  {
   "cell_type": "code",
   "execution_count": null,
   "metadata": {},
   "outputs": [],
   "source": [
    "np.full((4,2), 1.5)"
   ]
  },
  {
   "cell_type": "markdown",
   "metadata": {},
   "source": [
    "> ### **np.zeros**"
   ]
  },
  {
   "cell_type": "code",
   "execution_count": null,
   "metadata": {},
   "outputs": [],
   "source": [
    "# Cria uma matriz nula \n",
    "np.zeros((3,4))"
   ]
  },
  {
   "cell_type": "markdown",
   "metadata": {},
   "source": [
    "> ### **np.ones**"
   ]
  },
  {
   "cell_type": "code",
   "execution_count": null,
   "metadata": {},
   "outputs": [],
   "source": [
    "np.ones(6)"
   ]
  },
  {
   "cell_type": "markdown",
   "metadata": {},
   "source": [
    "* **Exemplo**: temos as probabilidades de 6 itens pertencerem à classe 1. Queremos as probabilidades da classe 0."
   ]
  },
  {
   "cell_type": "code",
   "execution_count": null,
   "metadata": {},
   "outputs": [],
   "source": [
    "proba_class_1 = [0.35485755, 0.20685436, 0.58493837, 0.92473436, 0.18485747, 0.76292320]\n",
    "\n",
    "# Converter essa lista de probabilidades em um array\n",
    "arr_class_1 = np.array(proba_class_1)\n",
    "arr_class_1"
   ]
  },
  {
   "cell_type": "code",
   "execution_count": null,
   "metadata": {},
   "outputs": [],
   "source": [
    "# Subtração de matrizes\n",
    "arr_class_0 = np.ones(6) - arr_class_1\n",
    "arr_class_0"
   ]
  },
  {
   "cell_type": "markdown",
   "metadata": {},
   "source": [
    ">  ### **np.identity**"
   ]
  },
  {
   "cell_type": "code",
   "execution_count": null,
   "metadata": {},
   "outputs": [],
   "source": [
    "np.identity(4)"
   ]
  },
  {
   "cell_type": "markdown",
   "metadata": {},
   "source": [
    ">  ### **np.eye**"
   ]
  },
  {
   "cell_type": "code",
   "execution_count": null,
   "metadata": {},
   "outputs": [],
   "source": [
    "# A diagonal pode ser movida\n",
    "np.eye(4, k=-1)"
   ]
  },
  {
   "cell_type": "markdown",
   "metadata": {},
   "source": [
    "> ### **np.reshape**"
   ]
  },
  {
   "cell_type": "code",
   "execution_count": null,
   "metadata": {},
   "outputs": [],
   "source": [
    "arr_classes = np.append(arr_class_0, arr_class_1, axis=0)\n",
    "arr_classes"
   ]
  },
  {
   "cell_type": "code",
   "execution_count": null,
   "metadata": {},
   "outputs": [],
   "source": [
    "arr_classes = arr_classes.reshape(2,6)\n",
    "arr_classes"
   ]
  },
  {
   "cell_type": "code",
   "execution_count": null,
   "metadata": {},
   "outputs": [],
   "source": [
    "# ex 2\n",
    "np.arange(6).reshape((3, 2))"
   ]
  },
  {
   "cell_type": "code",
   "execution_count": null,
   "metadata": {},
   "outputs": [],
   "source": [
    "# ex 3\n",
    "x = np.random.randint(50, size=(1,50))\n",
    "x.reshape(-1, 1)"
   ]
  },
  {
   "cell_type": "markdown",
   "metadata": {},
   "source": [
    "> ### **np.ravel**"
   ]
  },
  {
   "cell_type": "code",
   "execution_count": null,
   "metadata": {},
   "outputs": [],
   "source": [
    "# Gera um 1D array\n",
    "arr_classes.ravel()"
   ]
  },
  {
   "cell_type": "markdown",
   "metadata": {},
   "source": [
    "> ### **np.hstack** e **np.vstack**"
   ]
  },
  {
   "cell_type": "code",
   "execution_count": null,
   "metadata": {},
   "outputs": [],
   "source": [
    "a = [[4,15], [20,24]]\n",
    "b = [[0,15], [30,0]]\n",
    "\n",
    "# np.hstack\n",
    "np.hstack((a,b))"
   ]
  },
  {
   "cell_type": "code",
   "execution_count": null,
   "metadata": {},
   "outputs": [],
   "source": [
    "# np.vstack\n",
    "np.vstack((a,b))"
   ]
  },
  {
   "cell_type": "markdown",
   "metadata": {},
   "source": [
    "## 3. Outras funções aplicadas a arrays: <a name='funções1'></a>"
   ]
  },
  {
   "cell_type": "code",
   "execution_count": null,
   "metadata": {},
   "outputs": [],
   "source": [
    "data[:,3].mean()"
   ]
  },
  {
   "cell_type": "code",
   "execution_count": null,
   "metadata": {},
   "outputs": [],
   "source": [
    "data[:,0].std()"
   ]
  },
  {
   "cell_type": "code",
   "execution_count": null,
   "metadata": {},
   "outputs": [],
   "source": [
    "arr.max()"
   ]
  },
  {
   "cell_type": "code",
   "execution_count": null,
   "metadata": {},
   "outputs": [],
   "source": [
    "arr.min()"
   ]
  },
  {
   "cell_type": "markdown",
   "metadata": {},
   "source": [
    "---\n",
    "<center><img src=\"../../Presentation/4.jpg\" width=\"600\"></center>"
   ]
  }
 ],
 "metadata": {
  "kernelspec": {
   "display_name": "Python 3",
   "language": "python",
   "name": "python3"
  },
  "language_info": {
   "codemirror_mode": {
    "name": "ipython",
    "version": 3
   },
   "file_extension": ".py",
   "mimetype": "text/x-python",
   "name": "python",
   "nbconvert_exporter": "python",
   "pygments_lexer": "ipython3",
   "version": "3.8.2"
  }
 },
 "nbformat": 4,
 "nbformat_minor": 4
}
