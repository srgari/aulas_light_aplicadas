{
  "nbformat": 4,
  "nbformat_minor": 0,
  "metadata": {
    "colab": {
      "name": "sergio_regex_pt1_metacaracteres_ construcao.ipynb",
      "provenance": [],
      "collapsed_sections": []
    },
    "kernelspec": {
      "name": "python3",
      "display_name": "Python 3"
    }
  },
  "cells": [
    {
      "cell_type": "markdown",
      "metadata": {
        "id": "vezNlHCUm2CA"
      },
      "source": [
        "# ReGex\n",
        "## - Utilizar para localizar frases que tem (ou não tem) padrões específicos\n",
        "## - nativo no python\n",
        "## - basta importar o módulo re\n",
        "## - já vem embutido no pandas\n",
        "\n",
        "\n"
      ]
    },
    {
      "cell_type": "markdown",
      "metadata": {
        "id": "rsNBBhDedexp"
      },
      "source": [
        "---\n",
        "# Objetivo da aula de hoje:\n",
        "## conhecer a função re.search()\n",
        "## conhecer a função re.findall()\n",
        "## conhecer os principais metacaracteres\n"
      ]
    },
    {
      "cell_type": "code",
      "metadata": {
        "id": "whhR-FxWVV5u"
      },
      "source": [
        "import pandas as pd\n",
        "import re"
      ],
      "execution_count": null,
      "outputs": []
    },
    {
      "cell_type": "markdown",
      "metadata": {
        "id": "ItpKSshunN1M"
      },
      "source": [
        "## Melhor maneira de entender: analisar um texto na prática:\n",
        "- parte fácil no começo\n",
        "- partes bacanas no final"
      ]
    },
    {
      "cell_type": "code",
      "metadata": {
        "id": "hwhLcY5DVZga"
      },
      "source": [
        "Construcao = '''\n",
        "Amou daquela vez como se fosse a última\n",
        "Beijou sua mulher como se fosse a última\n",
        "E cada filho seu como se fosse o único\n",
        "E atravessou a rua com seu passo tímido\n",
        "Subiu a construção como se fosse máquina\n",
        "Ergueu no patamar quatro paredes sólidas\n",
        "Tijolo com tijolo num desenho mágico\n",
        "Seus olhos embotados de cimento e lágrima\n",
        "Sentou pra descansar como se fosse sábado\n",
        "Comeu feijão com arroz como se fosse um príncipe\n",
        "Bebeu e soluçou como se fosse um náufrago\n",
        "Dançou e gargalhou como se ouvisse música\n",
        "E tropeçou no céu como se fosse um bêbado\n",
        "E flutuou no ar como se fosse um pássaro\n",
        "E se acabou no chão feito um pacote flácido\n",
        "Agonizou no meio do passeio público\n",
        "Morreu na contramão atrapalhando o tráfego\n",
        "'''"
      ],
      "execution_count": null,
      "outputs": []
    },
    {
      "cell_type": "code",
      "metadata": {
        "id": "uSODh0jfVjB9",
        "outputId": "6f9306fc-80b4-47e4-c111-8f5ef27f7eec",
        "colab": {
          "base_uri": "https://localhost:8080/",
          "height": 558
        }
      },
      "source": [
        "df = pd.DataFrame(data = Construcao.split('\\n'), columns = ['versos'])[1:-1]\n",
        "df"
      ],
      "execution_count": null,
      "outputs": [
        {
          "output_type": "execute_result",
          "data": {
            "text/html": [
              "<div>\n",
              "<style scoped>\n",
              "    .dataframe tbody tr th:only-of-type {\n",
              "        vertical-align: middle;\n",
              "    }\n",
              "\n",
              "    .dataframe tbody tr th {\n",
              "        vertical-align: top;\n",
              "    }\n",
              "\n",
              "    .dataframe thead th {\n",
              "        text-align: right;\n",
              "    }\n",
              "</style>\n",
              "<table border=\"1\" class=\"dataframe\">\n",
              "  <thead>\n",
              "    <tr style=\"text-align: right;\">\n",
              "      <th></th>\n",
              "      <th>versos</th>\n",
              "    </tr>\n",
              "  </thead>\n",
              "  <tbody>\n",
              "    <tr>\n",
              "      <th>1</th>\n",
              "      <td>Amou daquela vez como se fosse a última</td>\n",
              "    </tr>\n",
              "    <tr>\n",
              "      <th>2</th>\n",
              "      <td>Beijou sua mulher como se fosse a última</td>\n",
              "    </tr>\n",
              "    <tr>\n",
              "      <th>3</th>\n",
              "      <td>E cada filho seu como se fosse o único</td>\n",
              "    </tr>\n",
              "    <tr>\n",
              "      <th>4</th>\n",
              "      <td>E atravessou a rua com seu passo tímido</td>\n",
              "    </tr>\n",
              "    <tr>\n",
              "      <th>5</th>\n",
              "      <td>Subiu a construção como se fosse máquina</td>\n",
              "    </tr>\n",
              "    <tr>\n",
              "      <th>6</th>\n",
              "      <td>Ergueu no patamar quatro paredes sólidas</td>\n",
              "    </tr>\n",
              "    <tr>\n",
              "      <th>7</th>\n",
              "      <td>Tijolo com tijolo num desenho mágico</td>\n",
              "    </tr>\n",
              "    <tr>\n",
              "      <th>8</th>\n",
              "      <td>Seus olhos embotados de cimento e lágrima</td>\n",
              "    </tr>\n",
              "    <tr>\n",
              "      <th>9</th>\n",
              "      <td>Sentou pra descansar como se fosse sábado</td>\n",
              "    </tr>\n",
              "    <tr>\n",
              "      <th>10</th>\n",
              "      <td>Comeu feijão com arroz como se fosse um príncipe</td>\n",
              "    </tr>\n",
              "    <tr>\n",
              "      <th>11</th>\n",
              "      <td>Bebeu e soluçou como se fosse um náufrago</td>\n",
              "    </tr>\n",
              "    <tr>\n",
              "      <th>12</th>\n",
              "      <td>Dançou e gargalhou como se ouvisse música</td>\n",
              "    </tr>\n",
              "    <tr>\n",
              "      <th>13</th>\n",
              "      <td>E tropeçou no céu como se fosse um bêbado</td>\n",
              "    </tr>\n",
              "    <tr>\n",
              "      <th>14</th>\n",
              "      <td>E flutuou no ar como se fosse um pássaro</td>\n",
              "    </tr>\n",
              "    <tr>\n",
              "      <th>15</th>\n",
              "      <td>E se acabou no chão feito um pacote flácido</td>\n",
              "    </tr>\n",
              "    <tr>\n",
              "      <th>16</th>\n",
              "      <td>Agonizou no meio do passeio público</td>\n",
              "    </tr>\n",
              "    <tr>\n",
              "      <th>17</th>\n",
              "      <td>Morreu na contramão atrapalhando o tráfego</td>\n",
              "    </tr>\n",
              "  </tbody>\n",
              "</table>\n",
              "</div>"
            ],
            "text/plain": [
              "                                              versos\n",
              "1            Amou daquela vez como se fosse a última\n",
              "2           Beijou sua mulher como se fosse a última\n",
              "3             E cada filho seu como se fosse o único\n",
              "4            E atravessou a rua com seu passo tímido\n",
              "5           Subiu a construção como se fosse máquina\n",
              "6           Ergueu no patamar quatro paredes sólidas\n",
              "7               Tijolo com tijolo num desenho mágico\n",
              "8          Seus olhos embotados de cimento e lágrima\n",
              "9          Sentou pra descansar como se fosse sábado\n",
              "10  Comeu feijão com arroz como se fosse um príncipe\n",
              "11         Bebeu e soluçou como se fosse um náufrago\n",
              "12         Dançou e gargalhou como se ouvisse música\n",
              "13         E tropeçou no céu como se fosse um bêbado\n",
              "14          E flutuou no ar como se fosse um pássaro\n",
              "15       E se acabou no chão feito um pacote flácido\n",
              "16               Agonizou no meio do passeio público\n",
              "17        Morreu na contramão atrapalhando o tráfego"
            ]
          },
          "metadata": {
            "tags": []
          },
          "execution_count": 3
        }
      ]
    },
    {
      "cell_type": "markdown",
      "metadata": {
        "id": "IqOhIYaEniYM"
      },
      "source": [
        "### - fórmulas do re que utilizaremos:\n",
        "\n",
        "#### - re.search(\\<padrao\\>, \\<string\\>) - diz se a frase tem ou não o padrão, e onde\n",
        "\n",
        "#### - re.findall(\\<padrao\\>, \\<string\\>) - localiza todas as repetições\n",
        "\n",
        "### -> vamos usar re.findall() primariamente nesses exercícios\n"
      ]
    },
    {
      "cell_type": "code",
      "metadata": {
        "id": "jIfMWbidn-0M",
        "outputId": "2456d76d-2141-4a9d-fa52-12e3df62bd74",
        "colab": {
          "base_uri": "https://localhost:8080/",
          "height": 345
        }
      },
      "source": [
        "# Localizar os versos que tem a palavra 'última'\n",
        "df.versos.apply(lambda x: re.search('última',x))"
      ],
      "execution_count": null,
      "outputs": [
        {
          "output_type": "execute_result",
          "data": {
            "text/plain": [
              "1     <_sre.SRE_Match object; span=(33, 39), match='...\n",
              "2     <_sre.SRE_Match object; span=(34, 40), match='...\n",
              "3                                                  None\n",
              "4                                                  None\n",
              "5                                                  None\n",
              "6                                                  None\n",
              "7                                                  None\n",
              "8                                                  None\n",
              "9                                                  None\n",
              "10                                                 None\n",
              "11                                                 None\n",
              "12                                                 None\n",
              "13                                                 None\n",
              "14                                                 None\n",
              "15                                                 None\n",
              "16                                                 None\n",
              "17                                                 None\n",
              "Name: versos, dtype: object"
            ]
          },
          "metadata": {
            "tags": []
          },
          "execution_count": 4
        }
      ]
    },
    {
      "cell_type": "code",
      "metadata": {
        "id": "AYB8am2Seh-P",
        "outputId": "55713363-9828-4179-d971-cd03dcf2f877",
        "colab": {
          "base_uri": "https://localhost:8080/",
          "height": 345
        }
      },
      "source": [
        "# Localizar a palavra última\n",
        "df.versos.apply(lambda x: re.findall('última',x))"
      ],
      "execution_count": null,
      "outputs": [
        {
          "output_type": "execute_result",
          "data": {
            "text/plain": [
              "1     [última]\n",
              "2     [última]\n",
              "3           []\n",
              "4           []\n",
              "5           []\n",
              "6           []\n",
              "7           []\n",
              "8           []\n",
              "9           []\n",
              "10          []\n",
              "11          []\n",
              "12          []\n",
              "13          []\n",
              "14          []\n",
              "15          []\n",
              "16          []\n",
              "17          []\n",
              "Name: versos, dtype: object"
            ]
          },
          "metadata": {
            "tags": []
          },
          "execution_count": 5
        }
      ]
    },
    {
      "cell_type": "markdown",
      "metadata": {
        "id": "PGKTbIcvoSDN"
      },
      "source": [
        "### Antes de começarmos:\n",
        "#### Eu quero filtrar os versos com a palavra última.\n",
        "#### O que eu devo fazer?\n"
      ]
    },
    {
      "cell_type": "code",
      "metadata": {
        "id": "VVhsHrbeoOLv",
        "outputId": "77ec2720-ba87-45f9-a143-1774369ef509",
        "colab": {
          "base_uri": "https://localhost:8080/",
          "height": 108
        }
      },
      "source": [
        "filtro = df.versos.str.contains('última')\n",
        "df[filtro]\n"
      ],
      "execution_count": null,
      "outputs": [
        {
          "output_type": "execute_result",
          "data": {
            "text/html": [
              "<div>\n",
              "<style scoped>\n",
              "    .dataframe tbody tr th:only-of-type {\n",
              "        vertical-align: middle;\n",
              "    }\n",
              "\n",
              "    .dataframe tbody tr th {\n",
              "        vertical-align: top;\n",
              "    }\n",
              "\n",
              "    .dataframe thead th {\n",
              "        text-align: right;\n",
              "    }\n",
              "</style>\n",
              "<table border=\"1\" class=\"dataframe\">\n",
              "  <thead>\n",
              "    <tr style=\"text-align: right;\">\n",
              "      <th></th>\n",
              "      <th>versos</th>\n",
              "    </tr>\n",
              "  </thead>\n",
              "  <tbody>\n",
              "    <tr>\n",
              "      <th>1</th>\n",
              "      <td>Amou daquela vez como se fosse a última</td>\n",
              "    </tr>\n",
              "    <tr>\n",
              "      <th>2</th>\n",
              "      <td>Beijou sua mulher como se fosse a última</td>\n",
              "    </tr>\n",
              "  </tbody>\n",
              "</table>\n",
              "</div>"
            ],
            "text/plain": [
              "                                     versos\n",
              "1   Amou daquela vez como se fosse a última\n",
              "2  Beijou sua mulher como se fosse a última"
            ]
          },
          "metadata": {
            "tags": []
          },
          "execution_count": 6
        }
      ]
    },
    {
      "cell_type": "markdown",
      "metadata": {
        "id": "0Q4xpRS5fpLT"
      },
      "source": [
        "---\n",
        "### Metacaracteres"
      ]
    },
    {
      "cell_type": "markdown",
      "metadata": {
        "id": "SkiJGhKVfrUj"
      },
      "source": [
        ". = qualquer caractere"
      ]
    },
    {
      "cell_type": "code",
      "metadata": {
        "id": "86ZtOc_XejVA",
        "outputId": "541964a0-fa16-4f35-8df2-171f0f9d3221",
        "colab": {
          "base_uri": "https://localhost:8080/",
          "height": 345
        }
      },
      "source": [
        "# localizar bebado... ou é bêbado?\n",
        "df.versos.apply(lambda x: re.findall('b.bado',x))"
      ],
      "execution_count": null,
      "outputs": [
        {
          "output_type": "execute_result",
          "data": {
            "text/plain": [
              "1           []\n",
              "2           []\n",
              "3           []\n",
              "4           []\n",
              "5           []\n",
              "6           []\n",
              "7           []\n",
              "8           []\n",
              "9           []\n",
              "10          []\n",
              "11          []\n",
              "12          []\n",
              "13    [bêbado]\n",
              "14          []\n",
              "15          []\n",
              "16          []\n",
              "17          []\n",
              "Name: versos, dtype: object"
            ]
          },
          "metadata": {
            "tags": []
          },
          "execution_count": 7
        }
      ]
    },
    {
      "cell_type": "code",
      "metadata": {
        "id": "zebD1COGejdD",
        "outputId": "4fe85df8-1823-4a4d-e80b-6ee7119ab03e",
        "colab": {
          "base_uri": "https://localhost:8080/",
          "height": 345
        }
      },
      "source": [
        "# Cuidado: . pode localizar espaços\n",
        "df.versos.apply(lambda x: re.findall('.bêbado',x))"
      ],
      "execution_count": null,
      "outputs": [
        {
          "output_type": "execute_result",
          "data": {
            "text/plain": [
              "1            []\n",
              "2            []\n",
              "3            []\n",
              "4            []\n",
              "5            []\n",
              "6            []\n",
              "7            []\n",
              "8            []\n",
              "9            []\n",
              "10           []\n",
              "11           []\n",
              "12           []\n",
              "13    [ bêbado]\n",
              "14           []\n",
              "15           []\n",
              "16           []\n",
              "17           []\n",
              "Name: versos, dtype: object"
            ]
          },
          "metadata": {
            "tags": []
          },
          "execution_count": 8
        }
      ]
    },
    {
      "cell_type": "code",
      "metadata": {
        "id": "n5bkcMZjejhN",
        "outputId": "be812b15-08b8-40e1-f8a0-473934d8feab",
        "colab": {
          "base_uri": "https://localhost:8080/",
          "height": 345
        }
      },
      "source": [
        "# Cuidado: fim da frase não é um caractere normal\n",
        "df.versos.apply(lambda x: re.findall('bêbado.',x))"
      ],
      "execution_count": null,
      "outputs": [
        {
          "output_type": "execute_result",
          "data": {
            "text/plain": [
              "1     []\n",
              "2     []\n",
              "3     []\n",
              "4     []\n",
              "5     []\n",
              "6     []\n",
              "7     []\n",
              "8     []\n",
              "9     []\n",
              "10    []\n",
              "11    []\n",
              "12    []\n",
              "13    []\n",
              "14    []\n",
              "15    []\n",
              "16    []\n",
              "17    []\n",
              "Name: versos, dtype: object"
            ]
          },
          "metadata": {
            "tags": []
          },
          "execution_count": 9
        }
      ]
    },
    {
      "cell_type": "markdown",
      "metadata": {
        "id": "9bledAacguhC"
      },
      "source": [
        "---\n",
        "#### ^ = início da frase\n",
        "![](https://i.imgur.com/PL2B0dM.png)"
      ]
    },
    {
      "cell_type": "code",
      "metadata": {
        "id": "4A_i84RBejlJ",
        "outputId": "fd3c2feb-888f-4bb5-94d0-e505495419a7",
        "colab": {
          "base_uri": "https://localhost:8080/",
          "height": 345
        }
      },
      "source": [
        "# localizar frases que começam com 'a'\n",
        "df.versos.apply(lambda x: re.findall('^a',x, re.IGNORECASE))\n",
        "\n",
        "#... ué, por que veio vazio? "
      ],
      "execution_count": null,
      "outputs": [
        {
          "output_type": "execute_result",
          "data": {
            "text/plain": [
              "1     [A]\n",
              "2      []\n",
              "3      []\n",
              "4      []\n",
              "5      []\n",
              "6      []\n",
              "7      []\n",
              "8      []\n",
              "9      []\n",
              "10     []\n",
              "11     []\n",
              "12     []\n",
              "13     []\n",
              "14     []\n",
              "15     []\n",
              "16    [A]\n",
              "17     []\n",
              "Name: versos, dtype: object"
            ]
          },
          "metadata": {
            "tags": []
          },
          "execution_count": 12
        }
      ]
    },
    {
      "cell_type": "code",
      "metadata": {
        "id": "FnXtozMpj9p1",
        "outputId": "da632151-bfc5-4848-a393-792723d9ed34",
        "colab": {
          "base_uri": "https://localhost:8080/",
          "height": 345
        }
      },
      "source": [
        "# Combinar ^ e .:\n",
        "# localizar frases que começam com Amou, ou amou, ou emou, ou algo assim\n",
        "df.versos.apply(lambda x: re.findall('^.mou', x))"
      ],
      "execution_count": null,
      "outputs": [
        {
          "output_type": "execute_result",
          "data": {
            "text/plain": [
              "1     [Amou]\n",
              "2         []\n",
              "3         []\n",
              "4         []\n",
              "5         []\n",
              "6         []\n",
              "7         []\n",
              "8         []\n",
              "9         []\n",
              "10        []\n",
              "11        []\n",
              "12        []\n",
              "13        []\n",
              "14        []\n",
              "15        []\n",
              "16        []\n",
              "17        []\n",
              "Name: versos, dtype: object"
            ]
          },
          "metadata": {
            "tags": []
          },
          "execution_count": 13
        }
      ]
    },
    {
      "cell_type": "markdown",
      "metadata": {
        "id": "5i-lWG6wkz0q"
      },
      "source": [
        "---\n",
        "#### $ - fim da frase"
      ]
    },
    {
      "cell_type": "code",
      "metadata": {
        "id": "nm_gXKkfkwae",
        "outputId": "bb4a3378-01e1-4cde-b120-2cbddb0c9a17",
        "colab": {
          "base_uri": "https://localhost:8080/",
          "height": 345
        }
      },
      "source": [
        "df.versos.apply(lambda x: re.findall('a$', x))"
      ],
      "execution_count": null,
      "outputs": [
        {
          "output_type": "execute_result",
          "data": {
            "text/plain": [
              "1     [a]\n",
              "2     [a]\n",
              "3      []\n",
              "4      []\n",
              "5     [a]\n",
              "6      []\n",
              "7      []\n",
              "8     [a]\n",
              "9      []\n",
              "10     []\n",
              "11     []\n",
              "12    [a]\n",
              "13     []\n",
              "14     []\n",
              "15     []\n",
              "16     []\n",
              "17     []\n",
              "Name: versos, dtype: object"
            ]
          },
          "metadata": {
            "tags": []
          },
          "execution_count": 14
        }
      ]
    },
    {
      "cell_type": "markdown",
      "metadata": {
        "id": "Hx6KYIW9mNx4"
      },
      "source": [
        "---\n",
        "#### + = localizar 1 ou mais repetições\n"
      ]
    },
    {
      "cell_type": "code",
      "metadata": {
        "id": "V8QmdCL5mOLw",
        "outputId": "d1e85047-dc13-4715-d261-c2cdce1d65f9",
        "colab": {
          "base_uri": "https://localhost:8080/",
          "height": 345
        }
      },
      "source": [
        "# localizar palavras que tem um ou mais 'r'  \n",
        "df.versos.apply(lambda x: re.findall('r+', x))"
      ],
      "execution_count": null,
      "outputs": [
        {
          "output_type": "execute_result",
          "data": {
            "text/plain": [
              "1                []\n",
              "2               [r]\n",
              "3                []\n",
              "4            [r, r]\n",
              "5               [r]\n",
              "6      [r, r, r, r]\n",
              "7                []\n",
              "8               [r]\n",
              "9            [r, r]\n",
              "10          [rr, r]\n",
              "11              [r]\n",
              "12              [r]\n",
              "13              [r]\n",
              "14           [r, r]\n",
              "15               []\n",
              "16               []\n",
              "17    [rr, r, r, r]\n",
              "Name: versos, dtype: object"
            ]
          },
          "metadata": {
            "tags": []
          },
          "execution_count": 15
        }
      ]
    },
    {
      "cell_type": "code",
      "metadata": {
        "id": "puF4QkG5ph9w",
        "outputId": "89bafc64-3df8-456d-abaf-4b8ec39b0d5e",
        "colab": {
          "base_uri": "https://localhost:8080/",
          "height": 408
        }
      },
      "source": [
        "# o pandas consegue reconhecer esses metacaracteres\n",
        "filtro = df.versos.str.contains('r+')\n",
        "df[filtro]\n",
        "\n",
        "# quais frases estão faltando? (de cabeça!)"
      ],
      "execution_count": null,
      "outputs": [
        {
          "output_type": "execute_result",
          "data": {
            "text/html": [
              "<div>\n",
              "<style scoped>\n",
              "    .dataframe tbody tr th:only-of-type {\n",
              "        vertical-align: middle;\n",
              "    }\n",
              "\n",
              "    .dataframe tbody tr th {\n",
              "        vertical-align: top;\n",
              "    }\n",
              "\n",
              "    .dataframe thead th {\n",
              "        text-align: right;\n",
              "    }\n",
              "</style>\n",
              "<table border=\"1\" class=\"dataframe\">\n",
              "  <thead>\n",
              "    <tr style=\"text-align: right;\">\n",
              "      <th></th>\n",
              "      <th>versos</th>\n",
              "    </tr>\n",
              "  </thead>\n",
              "  <tbody>\n",
              "    <tr>\n",
              "      <th>2</th>\n",
              "      <td>Beijou sua mulher como se fosse a última</td>\n",
              "    </tr>\n",
              "    <tr>\n",
              "      <th>4</th>\n",
              "      <td>E atravessou a rua com seu passo tímido</td>\n",
              "    </tr>\n",
              "    <tr>\n",
              "      <th>5</th>\n",
              "      <td>Subiu a construção como se fosse máquina</td>\n",
              "    </tr>\n",
              "    <tr>\n",
              "      <th>6</th>\n",
              "      <td>Ergueu no patamar quatro paredes sólidas</td>\n",
              "    </tr>\n",
              "    <tr>\n",
              "      <th>8</th>\n",
              "      <td>Seus olhos embotados de cimento e lágrima</td>\n",
              "    </tr>\n",
              "    <tr>\n",
              "      <th>9</th>\n",
              "      <td>Sentou pra descansar como se fosse sábado</td>\n",
              "    </tr>\n",
              "    <tr>\n",
              "      <th>10</th>\n",
              "      <td>Comeu feijão com arroz como se fosse um príncipe</td>\n",
              "    </tr>\n",
              "    <tr>\n",
              "      <th>11</th>\n",
              "      <td>Bebeu e soluçou como se fosse um náufrago</td>\n",
              "    </tr>\n",
              "    <tr>\n",
              "      <th>12</th>\n",
              "      <td>Dançou e gargalhou como se ouvisse música</td>\n",
              "    </tr>\n",
              "    <tr>\n",
              "      <th>13</th>\n",
              "      <td>E tropeçou no céu como se fosse um bêbado</td>\n",
              "    </tr>\n",
              "    <tr>\n",
              "      <th>14</th>\n",
              "      <td>E flutuou no ar como se fosse um pássaro</td>\n",
              "    </tr>\n",
              "    <tr>\n",
              "      <th>17</th>\n",
              "      <td>Morreu na contramão atrapalhando o tráfego</td>\n",
              "    </tr>\n",
              "  </tbody>\n",
              "</table>\n",
              "</div>"
            ],
            "text/plain": [
              "                                              versos\n",
              "2           Beijou sua mulher como se fosse a última\n",
              "4            E atravessou a rua com seu passo tímido\n",
              "5           Subiu a construção como se fosse máquina\n",
              "6           Ergueu no patamar quatro paredes sólidas\n",
              "8          Seus olhos embotados de cimento e lágrima\n",
              "9          Sentou pra descansar como se fosse sábado\n",
              "10  Comeu feijão com arroz como se fosse um príncipe\n",
              "11         Bebeu e soluçou como se fosse um náufrago\n",
              "12         Dançou e gargalhou como se ouvisse música\n",
              "13         E tropeçou no céu como se fosse um bêbado\n",
              "14          E flutuou no ar como se fosse um pássaro\n",
              "17        Morreu na contramão atrapalhando o tráfego"
            ]
          },
          "metadata": {
            "tags": []
          },
          "execution_count": 18
        }
      ]
    },
    {
      "cell_type": "markdown",
      "metadata": {
        "id": "DuoEw6k5kzTE"
      },
      "source": [
        "---\n",
        "#### * = localizar 0 ou mais repetições\n",
        "![](https://i.imgur.com/PL2B0dM.png) "
      ]
    },
    {
      "cell_type": "code",
      "metadata": {
        "id": "Mv8d90LXejtL",
        "outputId": "f17c7519-7ce3-4f49-8897-e5ff34ee633e",
        "colab": {
          "base_uri": "https://localhost:8080/",
          "height": 345
        }
      },
      "source": [
        "# localizar palavras que tem um ou mais 'r'  \n",
        "df.versos.apply(lambda x: re.findall('r*', x))\n",
        "\n",
        "# apareceu um monte de vírgulas! o que aconteceu!\n",
        "# que alternativas existem pra resolver?\n",
        "# df.versos.str.len()"
      ],
      "execution_count": null,
      "outputs": [
        {
          "output_type": "execute_result",
          "data": {
            "text/plain": [
              "1                []\n",
              "2               [r]\n",
              "3                []\n",
              "4            [r, r]\n",
              "5               [r]\n",
              "6      [r, r, r, r]\n",
              "7                []\n",
              "8               [r]\n",
              "9            [r, r]\n",
              "10          [rr, r]\n",
              "11              [r]\n",
              "12              [r]\n",
              "13              [r]\n",
              "14           [r, r]\n",
              "15               []\n",
              "16               []\n",
              "17    [rr, r, r, r]\n",
              "Name: versos, dtype: object"
            ]
          },
          "metadata": {
            "tags": []
          },
          "execution_count": 31
        }
      ]
    },
    {
      "cell_type": "markdown",
      "metadata": {
        "id": "J7IjwEKLqNva"
      },
      "source": [
        "---\n",
        "#### {} = especificar quantas repetições\n",
        "#### ex: {1}, 1 repetição\n",
        "#### {2}, 2 repetições\n",
        "#### {1,2}, 1 ou 2 repetições\n",
        "#### {1,} 1 ou + repetições"
      ]
    },
    {
      "cell_type": "code",
      "metadata": {
        "id": "XhVfimffejyz",
        "outputId": "e7fdf413-ffab-4acb-cc90-c688e33907de",
        "colab": {
          "base_uri": "https://localhost:8080/",
          "height": 345
        }
      },
      "source": [
        "# Jeito inteligente de buscar pássaro\n",
        "df.versos.apply(lambda x: re.findall('pássaro',x))\n"
      ],
      "execution_count": null,
      "outputs": [
        {
          "output_type": "execute_result",
          "data": {
            "text/plain": [
              "1            []\n",
              "2            []\n",
              "3            []\n",
              "4            []\n",
              "5            []\n",
              "6            []\n",
              "7            []\n",
              "8            []\n",
              "9            []\n",
              "10           []\n",
              "11           []\n",
              "12           []\n",
              "13           []\n",
              "14    [pássaro]\n",
              "15           []\n",
              "16           []\n",
              "17           []\n",
              "Name: versos, dtype: object"
            ]
          },
          "metadata": {
            "tags": []
          },
          "execution_count": 32
        }
      ]
    },
    {
      "cell_type": "code",
      "metadata": {
        "id": "A1l6UrqkrjXu",
        "outputId": "46dc59f9-73fb-459c-c6f9-51b55a264bc8",
        "colab": {
          "base_uri": "https://localhost:8080/",
          "height": 345
        }
      },
      "source": [
        "# Jeito burro de buscar pássaro\n",
        "df.versos.apply(lambda x: re.findall('pás{2}aro',x))\n"
      ],
      "execution_count": null,
      "outputs": [
        {
          "output_type": "execute_result",
          "data": {
            "text/plain": [
              "1            []\n",
              "2            []\n",
              "3            []\n",
              "4            []\n",
              "5            []\n",
              "6            []\n",
              "7            []\n",
              "8            []\n",
              "9            []\n",
              "10           []\n",
              "11           []\n",
              "12           []\n",
              "13           []\n",
              "14    [pássaro]\n",
              "15           []\n",
              "16           []\n",
              "17           []\n",
              "Name: versos, dtype: object"
            ]
          },
          "metadata": {
            "tags": []
          },
          "execution_count": 33
        }
      ]
    },
    {
      "cell_type": "code",
      "metadata": {
        "id": "Hhxr1nF5rji9",
        "outputId": "e39d2373-5b26-43f3-e510-ccc4a3983e9e",
        "colab": {
          "base_uri": "https://localhost:8080/",
          "height": 345
        }
      },
      "source": [
        "# Vocês conseguem pensar em outro jeito de achar pássaro?\n",
        "df.versos.apply(lambda x: re.findall('pás{1,}aro',x))"
      ],
      "execution_count": null,
      "outputs": [
        {
          "output_type": "execute_result",
          "data": {
            "text/plain": [
              "1            []\n",
              "2            []\n",
              "3            []\n",
              "4            []\n",
              "5            []\n",
              "6            []\n",
              "7            []\n",
              "8            []\n",
              "9            []\n",
              "10           []\n",
              "11           []\n",
              "12           []\n",
              "13           []\n",
              "14    [pássaro]\n",
              "15           []\n",
              "16           []\n",
              "17           []\n",
              "Name: versos, dtype: object"
            ]
          },
          "metadata": {
            "tags": []
          },
          "execution_count": 43
        }
      ]
    },
    {
      "cell_type": "markdown",
      "metadata": {
        "id": "GrM9IDnGsfLS"
      },
      "source": [
        "---\n",
        "#### [ ] = especificar caracteres"
      ]
    },
    {
      "cell_type": "code",
      "metadata": {
        "id": "4OHbB-aQsU7e",
        "outputId": "8eeabb3c-6bf3-4b7c-dc02-150c368472cd",
        "colab": {
          "base_uri": "https://localhost:8080/",
          "height": 345
        }
      },
      "source": [
        "# tem a palavra última ou último?\n",
        "df.versos.apply(lambda x: re.findall('últim[ao]',x))"
      ],
      "execution_count": null,
      "outputs": [
        {
          "output_type": "execute_result",
          "data": {
            "text/plain": [
              "1     [última]\n",
              "2     [última]\n",
              "3           []\n",
              "4           []\n",
              "5           []\n",
              "6           []\n",
              "7           []\n",
              "8           []\n",
              "9           []\n",
              "10          []\n",
              "11          []\n",
              "12          []\n",
              "13          []\n",
              "14          []\n",
              "15          []\n",
              "16          []\n",
              "17          []\n",
              "Name: versos, dtype: object"
            ]
          },
          "metadata": {
            "tags": []
          },
          "execution_count": 44
        }
      ]
    },
    {
      "cell_type": "code",
      "metadata": {
        "id": "vW4uqDwqy8ml",
        "outputId": "1cf9a25f-2d02-4368-a519-89a246ef810d",
        "colab": {
          "base_uri": "https://localhost:8080/",
          "height": 345
        }
      },
      "source": [
        "# ver palavras que tem uma dessas letras: abcdefghijklmno\n",
        "df.versos.apply(lambda x: re.findall('[a-o]+',x))"
      ],
      "execution_count": null,
      "outputs": [
        {
          "output_type": "execute_result",
          "data": {
            "text/plain": [
              "1           [mo, da, ela, e, como, e, fo, e, a, l, ima]\n",
              "2          [eijo, a, m, lhe, como, e, fo, e, a, l, ima]\n",
              "3             [cada, filho, e, como, e, fo, e, o, nico]\n",
              "4                [a, a, e, o, a, a, com, e, a, o, mido]\n",
              "5               [bi, a, con, o, como, e, fo, e, m, ina]\n",
              "6                [g, e, no, a, ama, a, o, a, ede, lida]\n",
              "7          [ijolo, com, ijolo, n, m, de, enho, m, gico]\n",
              "8      [e, olho, embo, ado, de, cimen, o, e, l, g, ima]\n",
              "9          [en, o, a, de, can, a, como, e, fo, e, bado]\n",
              "10    [ome, feij, o, com, a, o, como, e, fo, e, m, n...\n",
              "11        [ebe, e, ol, o, como, e, fo, e, m, n, f, ago]\n",
              "12      [an, o, e, ga, galho, como, e, o, i, e, m, ica]\n",
              "13         [o, e, o, no, c, como, e, fo, e, m, b, bado]\n",
              "14              [fl, o, no, a, como, e, fo, e, m, a, o]\n",
              "15    [e, acabo, no, ch, o, fei, o, m, aco, e, fl, c...\n",
              "16               [goni, o, no, meio, do, a, eio, blico]\n",
              "17       [o, e, na, con, am, o, a, a, alhando, o, fego]\n",
              "Name: versos, dtype: object"
            ]
          },
          "metadata": {
            "tags": []
          },
          "execution_count": 49
        }
      ]
    },
    {
      "cell_type": "markdown",
      "metadata": {
        "id": "JmELQHHFuoJV"
      },
      "source": [
        "---\n",
        "#### \\ = Caracteres de escape\n",
        "#### \\s = espaço; \n",
        "#### \\w = caracteres, números e _\n",
        "#### \\d = números"
      ]
    },
    {
      "cell_type": "code",
      "metadata": {
        "id": "thOiifqlumVs",
        "outputId": "8888b713-5554-4536-e8dc-fc4b062dc71f",
        "colab": {
          "base_uri": "https://localhost:8080/",
          "height": 345
        }
      },
      "source": [
        "# Localizar as letras separadas\n",
        "df.versos.apply(lambda x: re.findall('\\w',x))"
      ],
      "execution_count": null,
      "outputs": [
        {
          "output_type": "execute_result",
          "data": {
            "text/plain": [
              "1     [A, m, o, u, d, a, q, u, e, l, a, v, e, z, c, ...\n",
              "2     [B, e, i, j, o, u, s, u, a, m, u, l, h, e, r, ...\n",
              "3     [E, c, a, d, a, f, i, l, h, o, s, e, u, c, o, ...\n",
              "4     [E, a, t, r, a, v, e, s, s, o, u, a, r, u, a, ...\n",
              "5     [S, u, b, i, u, a, c, o, n, s, t, r, u, ç, ã, ...\n",
              "6     [E, r, g, u, e, u, n, o, p, a, t, a, m, a, r, ...\n",
              "7     [T, i, j, o, l, o, c, o, m, t, i, j, o, l, o, ...\n",
              "8     [S, e, u, s, o, l, h, o, s, e, m, b, o, t, a, ...\n",
              "9     [S, e, n, t, o, u, p, r, a, d, e, s, c, a, n, ...\n",
              "10    [C, o, m, e, u, f, e, i, j, ã, o, c, o, m, a, ...\n",
              "11    [B, e, b, e, u, e, s, o, l, u, ç, o, u, c, o, ...\n",
              "12    [D, a, n, ç, o, u, e, g, a, r, g, a, l, h, o, ...\n",
              "13    [E, t, r, o, p, e, ç, o, u, n, o, c, é, u, c, ...\n",
              "14    [E, f, l, u, t, u, o, u, n, o, a, r, c, o, m, ...\n",
              "15    [E, s, e, a, c, a, b, o, u, n, o, c, h, ã, o, ...\n",
              "16    [A, g, o, n, i, z, o, u, n, o, m, e, i, o, d, ...\n",
              "17    [M, o, r, r, e, u, n, a, c, o, n, t, r, a, m, ...\n",
              "Name: versos, dtype: object"
            ]
          },
          "metadata": {
            "tags": []
          },
          "execution_count": 52
        }
      ]
    },
    {
      "cell_type": "code",
      "metadata": {
        "id": "woLAeVYovHhS",
        "outputId": "19cd76e4-3152-45d7-bb4b-125151c6835e",
        "colab": {
          "base_uri": "https://localhost:8080/",
          "height": 345
        }
      },
      "source": [
        "# Localizar as palavras: combinando \\w e +\n",
        "df.versos.apply(lambda x: re.findall('\\w{3,}',x))"
      ],
      "execution_count": null,
      "outputs": [
        {
          "output_type": "execute_result",
          "data": {
            "text/plain": [
              "1             [Amou, daquela, vez, como, fosse, última]\n",
              "2            [Beijou, sua, mulher, como, fosse, última]\n",
              "3                [cada, filho, seu, como, fosse, único]\n",
              "4            [atravessou, rua, com, seu, passo, tímido]\n",
              "5             [Subiu, construção, como, fosse, máquina]\n",
              "6           [Ergueu, patamar, quatro, paredes, sólidas]\n",
              "7           [Tijolo, com, tijolo, num, desenho, mágico]\n",
              "8            [Seus, olhos, embotados, cimento, lágrima]\n",
              "9         [Sentou, pra, descansar, como, fosse, sábado]\n",
              "10    [Comeu, feijão, com, arroz, como, fosse, prínc...\n",
              "11              [Bebeu, soluçou, como, fosse, náufrago]\n",
              "12           [Dançou, gargalhou, como, ouvisse, música]\n",
              "13                 [tropeçou, céu, como, fosse, bêbado]\n",
              "14                      [flutuou, como, fosse, pássaro]\n",
              "15               [acabou, chão, feito, pacote, flácido]\n",
              "16                   [Agonizou, meio, passeio, público]\n",
              "17           [Morreu, contramão, atrapalhando, tráfego]\n",
              "Name: versos, dtype: object"
            ]
          },
          "metadata": {
            "tags": []
          },
          "execution_count": 57
        }
      ]
    },
    {
      "cell_type": "markdown",
      "metadata": {
        "id": "3ZgzV2odvin4"
      },
      "source": [
        "---\n",
        "#### ( | ) = localizar um ou outro\n",
        "#### ex: '(última|única)' = acha um ou o outro"
      ]
    },
    {
      "cell_type": "code",
      "metadata": {
        "id": "eSl8H3cuv0RQ",
        "outputId": "d467f862-097e-4a6a-a95b-4d52257a2bde",
        "colab": {
          "base_uri": "https://localhost:8080/",
          "height": 345
        }
      },
      "source": [
        "df.versos.apply(lambda x: re.findall('como se fosse um (bêbado|pássaro)',x))"
      ],
      "execution_count": null,
      "outputs": [
        {
          "output_type": "execute_result",
          "data": {
            "text/plain": [
              "1            []\n",
              "2            []\n",
              "3            []\n",
              "4            []\n",
              "5            []\n",
              "6            []\n",
              "7            []\n",
              "8            []\n",
              "9            []\n",
              "10           []\n",
              "11           []\n",
              "12           []\n",
              "13     [bêbado]\n",
              "14    [pássaro]\n",
              "15           []\n",
              "16           []\n",
              "17           []\n",
              "Name: versos, dtype: object"
            ]
          },
          "metadata": {
            "tags": []
          },
          "execution_count": 58
        }
      ]
    },
    {
      "cell_type": "code",
      "metadata": {
        "id": "3MEP0orgwM1m",
        "outputId": "d44a08b6-3b39-438d-f301-7ffd3c9657be",
        "colab": {
          "base_uri": "https://localhost:8080/",
          "height": 345
        }
      },
      "source": [
        "# se não existir o padrão, não vem nada!\n",
        "df.versos.apply(lambda x: re.findall('como se tiveesse  um (bêbado|pássaro)',x))"
      ],
      "execution_count": null,
      "outputs": [
        {
          "output_type": "execute_result",
          "data": {
            "text/plain": [
              "1     []\n",
              "2     []\n",
              "3     []\n",
              "4     []\n",
              "5     []\n",
              "6     []\n",
              "7     []\n",
              "8     []\n",
              "9     []\n",
              "10    []\n",
              "11    []\n",
              "12    []\n",
              "13    []\n",
              "14    []\n",
              "15    []\n",
              "16    []\n",
              "17    []\n",
              "Name: versos, dtype: object"
            ]
          },
          "metadata": {
            "tags": []
          },
          "execution_count": 59
        }
      ]
    },
    {
      "cell_type": "markdown",
      "metadata": {
        "id": "eoC5jwIbs7Ck"
      },
      "source": [
        "![](https://i.imgur.com/zClNtMb.png) \n",
        "\n",
        "#### Quero localizar todas as proparoxítonas.\n",
        "#### Quero também saber se as proparoxítonas são singular ou plural\n",
        "#### Também quero saber se são masculinas ou femininas \n",
        "#### Quantos jeitos vocês conseguem pensar? "
      ]
    },
    {
      "cell_type": "code",
      "metadata": {
        "id": "C5Qdhta4sZlu",
        "outputId": "f9dce73e-93de-4f94-fefc-fdc6f7f79a83",
        "colab": {
          "base_uri": "https://localhost:8080/",
          "height": 345
        }
      },
      "source": [
        "# df.versos.apply(lambda x: re.findall('\\s(\\w+)$',x))\n",
        "df.versos.apply(lambda x: re.findall('[a-z]*[áéíóúâêîôû][a-z]+s$',x))"
      ],
      "execution_count": null,
      "outputs": [
        {
          "output_type": "execute_result",
          "data": {
            "text/plain": [
              "1            []\n",
              "2            []\n",
              "3            []\n",
              "4            []\n",
              "5            []\n",
              "6     [sólidas]\n",
              "7            []\n",
              "8            []\n",
              "9            []\n",
              "10           []\n",
              "11           []\n",
              "12           []\n",
              "13           []\n",
              "14           []\n",
              "15           []\n",
              "16           []\n",
              "17           []\n",
              "Name: versos, dtype: object"
            ]
          },
          "metadata": {
            "tags": []
          },
          "execution_count": 69
        }
      ]
    },
    {
      "cell_type": "markdown",
      "metadata": {
        "id": "64nQS7IaxmfJ"
      },
      "source": [
        "Clique duas vezes aqui para ver algumas soluções\n",
        "<font color='white'> \n",
        ">df.versos.apply(lambda x: re.findall('\\w{0,}[áéíóúê]\\w{0,}$',x))\n",
        ">df.versos.apply(lambda x: re.findall('\\w*[áéíóúê]\\w*$',x))\n",
        ">df.versos.apply(lambda x: re.findall('\\w*[áéíóúê][a-z]+$',x))\n",
        "</font>\n",
        "\n",
        "<!-- df.versos.apply(lambda x: re.findall('\\w*[áéíóú]\\w*$',x)) -->"
      ]
    },
    {
      "cell_type": "code",
      "metadata": {
        "id": "G8lpFruRst0b"
      },
      "source": [
        ""
      ],
      "execution_count": null,
      "outputs": []
    }
  ]
}