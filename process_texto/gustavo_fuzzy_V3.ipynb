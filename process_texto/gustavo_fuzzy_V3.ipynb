{
 "cells": [
  {
   "cell_type": "markdown",
   "metadata": {},
   "source": [
    "# Fuzzywuzzy Go! Go!\n",
    "\n",
    "Instale a biblioteca"
   ]
  },
  {
   "cell_type": "code",
   "execution_count": 1,
   "metadata": {
    "tags": []
   },
   "outputs": [
    {
     "output_type": "stream",
     "name": "stdout",
     "text": "Requirement already satisfied: fuzzywuzzy in c:\\users\\gusta\\anaconda3\\lib\\site-packages (0.18.0)\n"
    }
   ],
   "source": [
    "!pip install fuzzywuzzy"
   ]
  },
  {
   "cell_type": "markdown",
   "metadata": {},
   "source": []
  },
  {
   "cell_type": "code",
   "execution_count": 4,
   "metadata": {},
   "outputs": [],
   "source": [
    "from fuzzywuzzy import fuzz\n",
    "from fuzzywuzzy import process\n",
    "import pandas as pd"
   ]
  },
  {
   "cell_type": "markdown",
   "metadata": {},
   "source": [
    "# Para o R, temos a biblioteca stringdist, com grande similaridade"
   ]
  },
  {
   "cell_type": "markdown",
   "metadata": {},
   "source": [
    "-----------------------------------------------------------------------------------"
   ]
  },
  {
   "cell_type": "markdown",
   "metadata": {},
   "source": [
    "# Vamos testar as funções\n",
    "use textos que você acha que seriam interessantes, cada tipo de função pode retornar uma correspondecia errada dependendo da situação"
   ]
  },
  {
   "cell_type": "code",
   "execution_count": 80,
   "metadata": {},
   "outputs": [
    {
     "output_type": "execute_result",
     "data": {
      "text/plain": "98"
     },
     "metadata": {},
     "execution_count": 80
    }
   ],
   "source": [
    "fuzz.ratio(\"fuzzy wuzzy was a bear\", \"fuzzy wuzzy was a bear!\")"
   ]
  },
  {
   "cell_type": "code",
   "execution_count": 79,
   "metadata": {},
   "outputs": [
    {
     "output_type": "execute_result",
     "data": {
      "text/plain": "100"
     },
     "metadata": {},
     "execution_count": 79
    }
   ],
   "source": [
    "fuzz.partial_ratio(\"fuzzy wuzzy was a bear\", \"fuzzy wuzzy was a bear!\")"
   ]
  },
  {
   "cell_type": "markdown",
   "metadata": {},
   "source": [
    "---------------"
   ]
  },
  {
   "cell_type": "code",
   "execution_count": 76,
   "metadata": {},
   "outputs": [
    {
     "output_type": "execute_result",
     "data": {
      "text/plain": "91"
     },
     "metadata": {},
     "execution_count": 76
    }
   ],
   "source": [
    "fuzz.ratio(\"fuzzy wuzzy was a bear\", \"wuzzy fuzzy was a bear\")"
   ]
  },
  {
   "cell_type": "code",
   "execution_count": 81,
   "metadata": {},
   "outputs": [
    {
     "output_type": "execute_result",
     "data": {
      "text/plain": "100"
     },
     "metadata": {},
     "execution_count": 81
    }
   ],
   "source": [
    "fuzz.token_sort_ratio(\"fuzzy wuzzy was a bear\", \"wuzzy fuzzy was a bear\")"
   ]
  },
  {
   "cell_type": "markdown",
   "metadata": {},
   "source": [
    "----------"
   ]
  },
  {
   "cell_type": "code",
   "execution_count": 83,
   "metadata": {},
   "outputs": [
    {
     "output_type": "execute_result",
     "data": {
      "text/plain": "84"
     },
     "metadata": {},
     "execution_count": 83
    }
   ],
   "source": [
    "fuzz.token_sort_ratio(\"fuzzy was a bear\", \"fuzzy fuzzy was a bear\")\n"
   ]
  },
  {
   "cell_type": "code",
   "execution_count": 84,
   "metadata": {},
   "outputs": [
    {
     "output_type": "execute_result",
     "data": {
      "text/plain": "100"
     },
     "metadata": {},
     "execution_count": 84
    }
   ],
   "source": [
    "fuzz.token_set_ratio(\"fuzzy was a bear\", \"fuzzy fuzzy was a bear\")"
   ]
  },
  {
   "cell_type": "markdown",
   "metadata": {},
   "source": [
    "--------"
   ]
  },
  {
   "cell_type": "markdown",
   "metadata": {},
   "source": [
    "# Outros testes"
   ]
  },
  {
   "cell_type": "code",
   "execution_count": 62,
   "metadata": {
    "tags": []
   },
   "outputs": [
    {
     "output_type": "stream",
     "name": "stdout",
     "text": "92\n96\n93\n100\n"
    }
   ],
   "source": [
    "#exemplo de match  perfeito\n",
    "Str1 = \"Aula de sabado é tudo de bom\"\n",
    "Str2 = \"Aula de sabado é tudo de bom\"\n",
    "\n",
    "# #exemplo de match quase perfeito\n",
    "# Str1 = \"Aula de sabado é tudo de bom\"\n",
    "# Str2 = \"Aula de sabado tudo de bom\"\n",
    "\n",
    "# #exemplo de match quase perfeito\n",
    "# Str1 = \"Aula de sabado é tudo de bom\"\n",
    "# Str2 = \"Aula tudo de bom\"\n",
    "\n",
    "# #exemplo de match quase perfeito\n",
    "# Str1 = \"Aula de sabado é tudo de bom, só falta um doce junto\"\n",
    "# Str2 = \"Aula de sabado é tudo de bom\"\n",
    "\n",
    "# #exemplo  de partial\n",
    "# Str1 = \"mesa\"\n",
    "# Str2 = \"sobremesas são top, é tudo de bom\"\n",
    "\n",
    "# #exemplo de match quase perfeito mas com repetição \n",
    "# Str1 = \"Aula de sabado é tudo de bom\"\n",
    "# Str2 = \"Aula de sabado  tudo de bom bom\"\n",
    "\n",
    "\n",
    "Ratio = fuzz.ratio(Str1.lower(),Str2.lower())\n",
    "\n",
    "Partial_Ratio = fuzz.partial_ratio(Str1.lower(),Str2.lower())\n",
    "\n",
    "Token_Sort_Ratio = fuzz.token_sort_ratio(Str1,Str2)\n",
    "\n",
    "Token_Set_Ratio = fuzz.token_set_ratio(Str1,Str2)\n",
    "\n",
    "print(Ratio)\n",
    "print(Partial_Ratio)\n",
    "print(Token_Sort_Ratio)\n",
    "print(Token_Set_Ratio)"
   ]
  },
  {
   "cell_type": "markdown",
   "metadata": {},
   "source": [
    "# Como trabalahr com Dataframe "
   ]
  },
  {
   "cell_type": "code",
   "execution_count": 69,
   "metadata": {
    "tags": []
   },
   "outputs": [
    {
     "output_type": "stream",
     "name": "stdout",
     "text": "Nome  sobrenome  nível de nerdice  nível de  XPTO  sobremesa  la-la\n0      Caio    Salgado                42               4          5      6\n1   Gustavo  Galbiatti              3626               4          5      6\n2    Sergio    Marinho              8001               4          5      6\n3  Henrique     Gomide               151               4          5      6\n       Nome   sobenome  nivel de nerdice  nivel do mar  sobremesa  la  lala la\n0      Caio    Salgado                42             4          5   6        5\n1   Gustavo  Galbiatti              3626             4          5   6        5\n2    Sergio    Marinho              8001             4          5   6        5\n3  Henrique     Gomide               151             4          5   6        5\n"
    }
   ],
   "source": [
    "\n",
    "data = [['Caio','Salgado',42,4,5,6 ], ['Gustavo','Galbiatti',3626,4,5,6 ], ['Sergio','Marinho',8001,4,5,6 ], ['Henrique', \"Gomide\", 151,4,5,6 ]] \n",
    "  \n",
    "# Create the pandas DataFrame \n",
    "colunas_banco = pd.DataFrame(data, columns = ['Nome', 'sobrenome',\"nível de nerdice\",\"nível de  XPTO\", \"sobremesa\", \"la-la\" ]) \n",
    "\n",
    "data2 = [['Caio','Salgado',42,4,5,6,5 ], ['Gustavo','Galbiatti',3626,4,5,6,5 ], ['Sergio','Marinho',8001,4,5,6,5 ], ['Henrique', \"Gomide\", 151,4,5,6,5 ]] \n",
    "  \n",
    "# Create the pandas DataFrame \n",
    "colunas_base = pd.DataFrame(data2, columns = ['Nome', 'sobenome',\"nivel de nerdice\",\"nivel do mar\", \"sobremesa\", \"la\",\"lala la\" ]) \n",
    "print(colunas_banco)\n",
    "print(colunas_base)\n"
   ]
  },
  {
   "cell_type": "code",
   "execution_count": 70,
   "metadata": {
    "tags": []
   },
   "outputs": [
    {
     "output_type": "stream",
     "name": "stdout",
     "text": "[('nivel do mar', 90), ('nivel de nerdice', 86), ('Nome', 45), ('la', 45), ('sobenome', 36), ('lala la', 27), ('sobremesa', 23)]\n('nivel do mar', 90)\n"
    }
   ],
   "source": [
    "string_procurada = ('mesa')\n",
    "string_procurada = ('la')\n",
    "string_procurada = ('nome')\n",
    "string_procurada = ('nivel do ')\n",
    "\n",
    "lista = colunas_base.columns\n",
    "score = process.extract(string_procurada,lista,limit=10)#retorna os 10 maiores\n",
    "print(score)\n",
    "\n",
    "#retorna o maior valor\n",
    "maior_score = process.extractOne(string_procurada,lista)\n",
    "print(maior_score)\n"
   ]
  },
  {
   "cell_type": "markdown",
   "metadata": {},
   "source": [
    "# Exemplo de código do zero: "
   ]
  },
  {
   "cell_type": "code",
   "execution_count": null,
   "metadata": {},
   "outputs": [],
   "source": [
    "import numpy as np\n",
    "def levenshtein_ratio_and_distance(s, t, ratio_calc = False):\n",
    "    \"\"\" levenshtein_ratio_and_distance:\n",
    "        Calculates levenshtein distance between two strings.\n",
    "        If ratio_calc = True, the function computes the\n",
    "        levenshtein distance ratio of similarity between two strings\n",
    "        For all i and j, distance[i,j] will contain the Levenshtein\n",
    "        distance between the first i characters of s and the\n",
    "        first j characters of t\n",
    "    \"\"\"\n",
    "    # Initialize matrix of zeros\n",
    "    rows = len(s)+1\n",
    "    cols = len(t)+1\n",
    "    distance = np.zeros((rows,cols),dtype = int)\n",
    "\n",
    "    # Populate matrix of zeros with the indeces of each character of both strings\n",
    "    for i in range(1, rows):\n",
    "        for k in range(1,cols):\n",
    "            distance[i][0] = i\n",
    "            distance[0][k] = k\n",
    "\n",
    "    # Iterate over the matrix to compute the cost of deletions,insertions and/or substitutions    \n",
    "    for col in range(1, cols):\n",
    "        for row in range(1, rows):\n",
    "            if s[row-1] == t[col-1]:\n",
    "                cost = 0 # If the characters are the same in the two strings in a given position [i,j] then the cost is 0\n",
    "            else:\n",
    "                # In order to align the results with those of the Python Levenshtein package, if we choose to calculate the ratio\n",
    "                # the cost of a substitution is 2. If we calculate just distance, then the cost of a substitution is 1.\n",
    "                if ratio_calc == True:\n",
    "                    cost = 2\n",
    "                else:\n",
    "                    cost = 1\n",
    "            distance[row][col] = min(distance[row-1][col] + 1,      # Cost of deletions\n",
    "                                 distance[row][col-1] + 1,          # Cost of insertions\n",
    "                                 distance[row-1][col-1] + cost)     # Cost of substitutions\n",
    "    if ratio_calc == True:\n",
    "        # Computation of the Levenshtein Distance Ratio\n",
    "        Ratio = ((len(s)+len(t)) - distance[row][col]) / (len(s)+len(t))\n",
    "        return Ratio\n",
    "    else:\n",
    "        # print(distance) # Uncomment if you want to see the matrix showing how the algorithm computes the cost of deletions,\n",
    "        # insertions and/or substitutions\n",
    "        # This is the minimum number of edits needed to convert string a to string b\n",
    "        return \"The strings are {} edits away\".format(distnce[row][col])"
   ]
  },
  {
   "cell_type": "markdown",
   "metadata": {},
   "source": [
    "# Links e fontes"
   ]
  },
  {
   "cell_type": "markdown",
   "metadata": {},
   "source": [
    "https://stackoverflow.com/questions/31806695/when-to-use-which-fuzz-function-to-compare-2-strings\n",
    "\n",
    "https://www.datacamp.com/community/tutorials/fuzzy-string-python?utm_source=adwords_ppc&utm_campaignid=1455363063&utm_adgroupid=65083631748&utm_device=c&utm_keyword=&utm_matchtype=b&utm_network=g&utm_adpostion=&utm_creative=278443377086&utm_targetid=dsa-429603003980&utm_loc_interest_ms=&utm_loc_physical_ms=1001767&gclid=EAIaIQobChMIyfHqvuuv6wIVhQyRCh0j3QFnEAAYASAAEgK2qfD_BwE\n",
    "\n",
    "https://github.com/seatgeek/fuzzywuzzy/blob/9a4bc22c7483198fcb96afacc42f5f700fb803ed/fuzzywuzzy/fuzz.py\n",
    "\n",
    "https://www.geeksforgeeks.org/different-ways-to-create-pandas-dataframe/#:~:text=%23%20print%20dataframe.&text=To%20create%20DataFrame%20from%20dict,n%20is%20the%20array%20length.\n",
    "\n",
    "https://www.geeksforgeeks.org/fuzzywuzzy-python-library/"
   ]
  }
 ],
 "metadata": {
  "kernelspec": {
   "display_name": "Python 3",
   "language": "python",
   "name": "python3"
  },
  "language_info": {
   "codemirror_mode": {
    "name": "ipython",
    "version": 3
   },
   "file_extension": ".py",
   "mimetype": "text/x-python",
   "name": "python",
   "nbconvert_exporter": "python",
   "pygments_lexer": "ipython3",
   "version": "3.7.7-final"
  }
 },
 "nbformat": 4,
 "nbformat_minor": 4
}