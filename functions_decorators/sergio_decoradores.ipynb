{
 "cells": [
  {
   "cell_type": "markdown",
   "source": [
    "# Decorators\n",
    "\n",
    "### Based on the book Python Tricks, from Dan Baden\n",
    "\n",
    "---\n",
    "## What do decorators look like?\n",
    "\n",
    "```python\n",
    "@decorator_that_times_functions\n",
    "def slow_function():\n",
    "    time.sleep(10)\n",
    "    return None\n",
    "\n",
    "slow_function()\n",
    "``` \n",
    "\n",
    "The function \"slow_function()\" took 10.0 seconds\n",
    "\n",
    "---\n",
    "\n",
    "## Why decorators?\n",
    "- debugging\n",
    "- timing functions\n",
    "- saving events from code execution on files\n",
    "- logging possible error and warnings\n",
    "- and much more!\n",
    "\n",
    "---\n",
    "\n",
    "## What do you need to use decorators on python?\n",
    "- Just the knowledge\n",
    "\n",
    "---\n",
    "## Let's get started!"
   ],
   "metadata": {}
  },
  {
   "cell_type": "code",
   "execution_count": 22,
   "source": [
    "# the simplest decorator possible\n",
    "# (but it's an useless decorator)\n",
    "\n",
    "def useless_decorator(func):\n",
    "    return func # Note: return func, and not func(). It's important\n",
    "\n",
    "\n",
    "# Note that decorators are functions!"
   ],
   "outputs": [],
   "metadata": {}
  },
  {
   "cell_type": "code",
   "execution_count": null,
   "source": [
    "# decorators are useful to replace this for something pythonic\n",
    "def greet():\n",
    "    return 'Hello!'\n",
    "\n",
    "def upper_text(func):\n",
    "    return func().upper()\n",
    "\n",
    "upper_text(greet)\n"
   ],
   "outputs": [],
   "metadata": {}
  },
  {
   "cell_type": "markdown",
   "source": [],
   "metadata": {}
  },
  {
   "cell_type": "code",
   "execution_count": 23,
   "source": [
    "# Applying the useless decorator\n",
    "@useless_decorator # @ + function name, without ()\n",
    "def greet():\n",
    "    return 'Hello!'"
   ],
   "outputs": [],
   "metadata": {}
  },
  {
   "cell_type": "code",
   "execution_count": 24,
   "source": [
    "# calling the function with the useless decorator:\n",
    "greet()"
   ],
   "outputs": [
    {
     "output_type": "execute_result",
     "data": {
      "text/plain": [
       "'Hello!'"
      ]
     },
     "metadata": {},
     "execution_count": 24
    }
   ],
   "metadata": {}
  },
  {
   "cell_type": "code",
   "execution_count": 25,
   "source": [
    "# If you pass arguments to the function, \n",
    "# they will only work when you define the function\n",
    "\n",
    "def useless_decorator_that_says_it_was_activated(func):\n",
    "    print('decorator activated')\n",
    "    return func \n",
    "\n",
    "@useless_decorator_that_says_it_was_activated\n",
    "def greet():\n",
    "    return 'Hello!'"
   ],
   "outputs": [
    {
     "output_type": "stream",
     "name": "stdout",
     "text": [
      "decorator activated\n"
     ]
    }
   ],
   "metadata": {}
  },
  {
   "cell_type": "code",
   "execution_count": 26,
   "source": [
    "# note that calling the function does not print 'decorator activated'\n",
    "greet()"
   ],
   "outputs": [
    {
     "output_type": "execute_result",
     "data": {
      "text/plain": [
       "'Hello!'"
      ]
     },
     "metadata": {},
     "execution_count": 26
    }
   ],
   "metadata": {}
  },
  {
   "cell_type": "code",
   "execution_count": 29,
   "source": [
    "# Useful decorators have a function within the function\n",
    "# (things get tense here)\n",
    "# We'll dissect each part in a moment. Sit tight!\n",
    "def useful_decorator_that_turns_strings_uppercase(func):\n",
    "    def wrapper():\n",
    "        text = func()\n",
    "        uppercase_text = text.upper()\n",
    "        return uppercase_text\n",
    "    return wrapper \n",
    "\n",
    "@useful_decorator_that_turns_strings_uppercase\n",
    "def greet():\n",
    "    return 'Hello!'\n",
    "\n",
    "greet()\n"
   ],
   "outputs": [
    {
     "output_type": "execute_result",
     "data": {
      "text/plain": [
       "'HELLO!'"
      ]
     },
     "metadata": {},
     "execution_count": 29
    }
   ],
   "metadata": {}
  },
  {
   "cell_type": "code",
   "execution_count": 30,
   "source": [
    "# calling the function again: still shouting\n",
    "greet()"
   ],
   "outputs": [
    {
     "output_type": "execute_result",
     "data": {
      "text/plain": [
       "'HELLO!'"
      ]
     },
     "metadata": {},
     "execution_count": 30
    }
   ],
   "metadata": {}
  },
  {
   "cell_type": "markdown",
   "source": [
    "## Let's dissect this decorator\n",
    "\n",
    "```\n",
    "def useful_decorator_that_turns_strings_uppercase(func):    \n",
    "# The first function receives the function to decorate as argument\n",
    "\n",
    "    def wrapper():\n",
    "        # The wrapper will replace your function\n",
    "        # in other words: bye-bye original function. Hello wrapper!\n",
    "\n",
    "        text = func()\n",
    "        # the wrapper function here is executing your original function here\n",
    "        # and saving the output in the variable 'text'\n",
    "\n",
    "        uppercase_text = text.upper()\n",
    "        # the variable 'text' is being modified here \n",
    "\n",
    "        return uppercase_text\n",
    "        # the function wrapper() is getting the output of the original function\n",
    "        # and modifying it.\n",
    "\n",
    "        # Instead of modifying it, we could be doing other stuff,\n",
    "        # such as writing into files, printing things, etc\n",
    "    \n",
    "    return wrapper \n",
    "    # the decorator always returns the wrapper function, without () \n",
    "```\n",
    "\n",
    "---"
   ],
   "metadata": {}
  },
  {
   "cell_type": "code",
   "execution_count": 31,
   "source": [
    "# Let's create a useful decorator, shall we?\n",
    "\n",
    "# Let's make a decorator that:\n",
    "# - says the name of the function called\n",
    "# - times the function\n",
    "# - documents in a file when the function was called \n",
    "\n",
    "import pandas as pd \n",
    "import time \n"
   ],
   "outputs": [],
   "metadata": {}
  },
  {
   "cell_type": "code",
   "execution_count": 45,
   "source": [
    "\n",
    "def decorator_I_actually_use_in_my_codes(func):\n",
    "    # always make sure your decorated functions return the same type of object\n",
    "    def wrapper():\n",
    "        start = time.time()\n",
    "        print('I just executed the function ', func.__name__)\n",
    "        df = func()  # the heart, core, main part of all decorators      \n",
    "        \n",
    "        # assert that there is data on the table\n",
    "        assert len(df) > 5, \"WARNING! EMPTY DATABASE!\"\n",
    "        # log data into a text\n",
    "        with open('log.txt' , 'w') as x:\n",
    "            x.write(f'table df modified by {func.__name__} \\n')\n",
    "            x.write(f'table df modified on {time.ctime()}')\n",
    "        end = time.time()\n",
    "        \n",
    "        # print how long it took to run the function\n",
    "        total_time = round(end - start, 2)\n",
    "        print(f'the function {func.__name__} took {total_time} seconds')\n",
    "        return df \n",
    "    return wrapper \n",
    "\n",
    "@decorator_I_actually_use_in_my_codes\n",
    "def create_table():    \n",
    "    df = pd.DataFrame({'lala':[1,2,3], 'lele': [4,5,6]})\n",
    "    \n",
    "    return df\n"
   ],
   "outputs": [],
   "metadata": {}
  },
  {
   "cell_type": "code",
   "execution_count": 46,
   "source": [
    "df = create_table()"
   ],
   "outputs": [
    {
     "output_type": "stream",
     "name": "stdout",
     "text": [
      "I just executed the function  create_table\n"
     ]
    },
    {
     "output_type": "error",
     "ename": "AssertionError",
     "evalue": "WARNING! EMPTY DATABASE!",
     "traceback": [
      "\u001b[0;31m---------------------------------------------------------------------------\u001b[0m",
      "\u001b[0;31mAssertionError\u001b[0m                            Traceback (most recent call last)",
      "\u001b[0;32m<ipython-input-46-81ca781e52a9>\u001b[0m in \u001b[0;36m<module>\u001b[0;34m\u001b[0m\n\u001b[0;32m----> 1\u001b[0;31m \u001b[0mdf\u001b[0m \u001b[0;34m=\u001b[0m \u001b[0mcreate_table\u001b[0m\u001b[0;34m(\u001b[0m\u001b[0;34m)\u001b[0m\u001b[0;34m\u001b[0m\u001b[0;34m\u001b[0m\u001b[0m\n\u001b[0m",
      "\u001b[0;32m<ipython-input-45-04ed0e3b1167>\u001b[0m in \u001b[0;36mwrapper\u001b[0;34m()\u001b[0m\n\u001b[1;32m      7\u001b[0m \u001b[0;34m\u001b[0m\u001b[0m\n\u001b[1;32m      8\u001b[0m         \u001b[0;31m# assert that there is data on the table\u001b[0m\u001b[0;34m\u001b[0m\u001b[0;34m\u001b[0m\u001b[0;34m\u001b[0m\u001b[0m\n\u001b[0;32m----> 9\u001b[0;31m         \u001b[0;32massert\u001b[0m \u001b[0mlen\u001b[0m\u001b[0;34m(\u001b[0m\u001b[0mdf\u001b[0m\u001b[0;34m)\u001b[0m \u001b[0;34m>\u001b[0m \u001b[0;36m5\u001b[0m\u001b[0;34m,\u001b[0m \u001b[0;34m\"WARNING! EMPTY DATABASE!\"\u001b[0m\u001b[0;34m\u001b[0m\u001b[0;34m\u001b[0m\u001b[0m\n\u001b[0m\u001b[1;32m     10\u001b[0m         \u001b[0;31m# log data into a text\u001b[0m\u001b[0;34m\u001b[0m\u001b[0;34m\u001b[0m\u001b[0;34m\u001b[0m\u001b[0m\n\u001b[1;32m     11\u001b[0m         \u001b[0;32mwith\u001b[0m \u001b[0mopen\u001b[0m\u001b[0;34m(\u001b[0m\u001b[0;34m'log.txt'\u001b[0m \u001b[0;34m,\u001b[0m \u001b[0;34m'w'\u001b[0m\u001b[0;34m)\u001b[0m \u001b[0;32mas\u001b[0m \u001b[0mx\u001b[0m\u001b[0;34m:\u001b[0m\u001b[0;34m\u001b[0m\u001b[0;34m\u001b[0m\u001b[0m\n",
      "\u001b[0;31mAssertionError\u001b[0m: WARNING! EMPTY DATABASE!"
     ]
    }
   ],
   "metadata": {}
  },
  {
   "cell_type": "markdown",
   "source": [],
   "metadata": {}
  }
 ],
 "metadata": {
  "interpreter": {
   "hash": "46a19c4819d4ab7573e8e3e260f55f7fa038825ade0ca1c0446204912bcbf4d3"
  },
  "kernelspec": {
   "name": "python3",
   "display_name": "Python 3.9.4 64-bit ('3.9.4': pyenv)"
  },
  "language_info": {
   "codemirror_mode": {
    "name": "ipython",
    "version": 3
   },
   "file_extension": ".py",
   "mimetype": "text/x-python",
   "name": "python",
   "nbconvert_exporter": "python",
   "pygments_lexer": "ipython3",
   "version": "3.9.4"
  }
 },
 "nbformat": 4,
 "nbformat_minor": 2
}