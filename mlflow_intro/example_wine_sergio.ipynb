{
 "metadata": {
  "language_info": {
   "codemirror_mode": {
    "name": "ipython",
    "version": 3
   },
   "file_extension": ".py",
   "mimetype": "text/x-python",
   "name": "python",
   "nbconvert_exporter": "python",
   "pygments_lexer": "ipython3",
   "version": "3.9.4"
  },
  "orig_nbformat": 2,
  "kernelspec": {
   "name": "python394jvsc74a57bd046a19c4819d4ab7573e8e3e260f55f7fa038825ade0ca1c0446204912bcbf4d3",
   "display_name": "Python 3.9.4 64-bit ('3.9.4')"
  },
  "metadata": {
   "interpreter": {
    "hash": "46a19c4819d4ab7573e8e3e260f55f7fa038825ade0ca1c0446204912bcbf4d3"
   }
  }
 },
 "nbformat": 4,
 "nbformat_minor": 2,
 "cells": [
  {
   "cell_type": "code",
   "execution_count": 1,
   "metadata": {},
   "outputs": [],
   "source": [
    "import pandas as pd \n",
    "import sklearn\n",
    "from sklearn.metrics import mean_squared_error, mean_absolute_error, r2_score\n",
    "from sklearn.model_selection import train_test_split\n",
    "from sklearn.linear_model import ElasticNet\n",
    "from sklearn.linear_model import LinearRegression\n",
    "from urllib.parse import urlparse\n",
    "import mlflow \n",
    "import mlflow.sklearn \n",
    "import numpy as np\n",
    "\n",
    "import matplotlib.pyplot as plt"
   ]
  },
  {
   "cell_type": "code",
   "execution_count": 2,
   "metadata": {},
   "outputs": [
    {
     "output_type": "execute_result",
     "data": {
      "text/plain": [
       "   fixed acidity  volatile acidity  citric acid  residual sugar  chlorides  \\\n",
       "0            7.4              0.70         0.00             1.9      0.076   \n",
       "1            7.8              0.88         0.00             2.6      0.098   \n",
       "2            7.8              0.76         0.04             2.3      0.092   \n",
       "3           11.2              0.28         0.56             1.9      0.075   \n",
       "4            7.4              0.70         0.00             1.9      0.076   \n",
       "\n",
       "   free sulfur dioxide  total sulfur dioxide  density    pH  sulphates  \\\n",
       "0                 11.0                  34.0   0.9978  3.51       0.56   \n",
       "1                 25.0                  67.0   0.9968  3.20       0.68   \n",
       "2                 15.0                  54.0   0.9970  3.26       0.65   \n",
       "3                 17.0                  60.0   0.9980  3.16       0.58   \n",
       "4                 11.0                  34.0   0.9978  3.51       0.56   \n",
       "\n",
       "   alcohol  quality  \n",
       "0      9.4        5  \n",
       "1      9.8        5  \n",
       "2      9.8        5  \n",
       "3      9.8        6  \n",
       "4      9.4        5  "
      ],
      "text/html": "<div>\n<style scoped>\n    .dataframe tbody tr th:only-of-type {\n        vertical-align: middle;\n    }\n\n    .dataframe tbody tr th {\n        vertical-align: top;\n    }\n\n    .dataframe thead th {\n        text-align: right;\n    }\n</style>\n<table border=\"1\" class=\"dataframe\">\n  <thead>\n    <tr style=\"text-align: right;\">\n      <th></th>\n      <th>fixed acidity</th>\n      <th>volatile acidity</th>\n      <th>citric acid</th>\n      <th>residual sugar</th>\n      <th>chlorides</th>\n      <th>free sulfur dioxide</th>\n      <th>total sulfur dioxide</th>\n      <th>density</th>\n      <th>pH</th>\n      <th>sulphates</th>\n      <th>alcohol</th>\n      <th>quality</th>\n    </tr>\n  </thead>\n  <tbody>\n    <tr>\n      <th>0</th>\n      <td>7.4</td>\n      <td>0.70</td>\n      <td>0.00</td>\n      <td>1.9</td>\n      <td>0.076</td>\n      <td>11.0</td>\n      <td>34.0</td>\n      <td>0.9978</td>\n      <td>3.51</td>\n      <td>0.56</td>\n      <td>9.4</td>\n      <td>5</td>\n    </tr>\n    <tr>\n      <th>1</th>\n      <td>7.8</td>\n      <td>0.88</td>\n      <td>0.00</td>\n      <td>2.6</td>\n      <td>0.098</td>\n      <td>25.0</td>\n      <td>67.0</td>\n      <td>0.9968</td>\n      <td>3.20</td>\n      <td>0.68</td>\n      <td>9.8</td>\n      <td>5</td>\n    </tr>\n    <tr>\n      <th>2</th>\n      <td>7.8</td>\n      <td>0.76</td>\n      <td>0.04</td>\n      <td>2.3</td>\n      <td>0.092</td>\n      <td>15.0</td>\n      <td>54.0</td>\n      <td>0.9970</td>\n      <td>3.26</td>\n      <td>0.65</td>\n      <td>9.8</td>\n      <td>5</td>\n    </tr>\n    <tr>\n      <th>3</th>\n      <td>11.2</td>\n      <td>0.28</td>\n      <td>0.56</td>\n      <td>1.9</td>\n      <td>0.075</td>\n      <td>17.0</td>\n      <td>60.0</td>\n      <td>0.9980</td>\n      <td>3.16</td>\n      <td>0.58</td>\n      <td>9.8</td>\n      <td>6</td>\n    </tr>\n    <tr>\n      <th>4</th>\n      <td>7.4</td>\n      <td>0.70</td>\n      <td>0.00</td>\n      <td>1.9</td>\n      <td>0.076</td>\n      <td>11.0</td>\n      <td>34.0</td>\n      <td>0.9978</td>\n      <td>3.51</td>\n      <td>0.56</td>\n      <td>9.4</td>\n      <td>5</td>\n    </tr>\n  </tbody>\n</table>\n</div>"
     },
     "metadata": {},
     "execution_count": 2
    }
   ],
   "source": [
    "csv_url = (\n",
    "        \"http://archive.ics.uci.edu/ml/machine-learning-databases/wine-quality/winequality-red.csv\"\n",
    "    )\n",
    "data = pd.read_csv(csv_url, sep = ';')\n",
    "data.head()"
   ]
  },
  {
   "cell_type": "code",
   "execution_count": 3,
   "metadata": {},
   "outputs": [
    {
     "output_type": "stream",
     "name": "stdout",
     "text": [
      "shapes: \ntrain: (1199, 12), test: (400, 12)\n"
     ]
    }
   ],
   "source": [
    "train, test = train_test_split(data)\n",
    "print(f'shapes: \\ntrain: {train.shape}, test: {test.shape}')"
   ]
  },
  {
   "cell_type": "code",
   "execution_count": 4,
   "metadata": {},
   "outputs": [
    {
     "output_type": "stream",
     "name": "stdout",
     "text": [
      "\nshapes: \ntrain_x: (1199, 11), \ntrain_y: (1199, 1),\ntest_x: (400, 11),\ntest_y: (400, 1)\n\n"
     ]
    }
   ],
   "source": [
    "train_x = train.drop(columns = 'quality')\n",
    "train_y = train[['quality']]\n",
    "test_x = test.drop(columns = 'quality')\n",
    "test_y = test[['quality']]\n",
    "\n",
    "print(f'''\n",
    "shapes: \n",
    "train_x: {train_x.shape}, \n",
    "train_y: {train_y.shape},\n",
    "test_x: {test_x.shape},\n",
    "test_y: {test_y.shape}\n",
    "''')"
   ]
  },
  {
   "cell_type": "code",
   "execution_count": 35,
   "metadata": {},
   "outputs": [
    {
     "output_type": "execute_result",
     "data": {
      "text/plain": [
       "      test_y  predicted\n",
       "1006       7   6.554333\n",
       "552        6   5.732022\n",
       "410        6   5.333098\n",
       "920        5   5.753958\n",
       "1381       5   4.929838"
      ],
      "text/html": "<div>\n<style scoped>\n    .dataframe tbody tr th:only-of-type {\n        vertical-align: middle;\n    }\n\n    .dataframe tbody tr th {\n        vertical-align: top;\n    }\n\n    .dataframe thead th {\n        text-align: right;\n    }\n</style>\n<table border=\"1\" class=\"dataframe\">\n  <thead>\n    <tr style=\"text-align: right;\">\n      <th></th>\n      <th>test_y</th>\n      <th>predicted</th>\n    </tr>\n  </thead>\n  <tbody>\n    <tr>\n      <th>1006</th>\n      <td>7</td>\n      <td>6.554333</td>\n    </tr>\n    <tr>\n      <th>552</th>\n      <td>6</td>\n      <td>5.732022</td>\n    </tr>\n    <tr>\n      <th>410</th>\n      <td>6</td>\n      <td>5.333098</td>\n    </tr>\n    <tr>\n      <th>920</th>\n      <td>5</td>\n      <td>5.753958</td>\n    </tr>\n    <tr>\n      <th>1381</th>\n      <td>5</td>\n      <td>4.929838</td>\n    </tr>\n  </tbody>\n</table>\n</div>"
     },
     "metadata": {},
     "execution_count": 35
    }
   ],
   "source": [
    "lr1 = LinearRegression().fit(X = train_x, y = train_y)\n",
    "predicted_qualities = lr1.predict(test_x).reshape([400,])\n",
    "\n",
    "df_prediction = pd.DataFrame({'test_y': test_y.quality, 'predicted': predicted_qualities})\n",
    "df_prediction.head()"
   ]
  },
  {
   "cell_type": "code",
   "execution_count": 9,
   "metadata": {},
   "outputs": [
    {
     "output_type": "stream",
     "name": "stdout",
     "text": [
      "\nRegressão linear simples: só um exemplo\nMSE: 0.4840011318469941\nRMSE: 0.6957018986944007\nMAE: 0.5372627090802302\n\n"
     ]
    }
   ],
   "source": [
    "mse = mean_squared_error(test_y, predicted_qualities)\n",
    "rmse = np.sqrt(mse)\n",
    "r2 = r2_score(test_y, predicted_qualities)\n",
    "mae = mean_absolute_error(test_y, predicted_qualities)\n",
    "print(f\"\"\"\n",
    "Regressão linear simples: só um exemplo\n",
    "MSE: {mse}\n",
    "RMSE: {rmse}\n",
    "MAE: {mae}\n",
    "\"\"\")"
   ]
  },
  {
   "cell_type": "code",
   "execution_count": 44,
   "metadata": {},
   "outputs": [],
   "source": [
    "data.to_csv('winequality_red.csv', sep = ';')\n",
    "df_prediction.to_csv('results.pkl')\n",
    "\n",
    "with mlflow.start_run(run_name = \"regressao_simples\"):\n",
    "    mlflow.set_tag('regressao_linear_simples','0')\n",
    "    mlflow.log_param('mse',mse)\n",
    "    mlflow.log_param('rmse',rmse)\n",
    "    mlflow.log_param('r2',r2)\n",
    "    mlflow.log_param('mae',mae)\n",
    "    mlflow.log_param('idade do sergio',38)    \n",
    "    mlflow.sklearn.log_model(lr1, \"linear_regression_model\")\n",
    "    mlflow.log_artifact('winequality_red.csv')\n",
    "    mlflow.log_artifact('results.pkl')"
   ]
  },
  {
   "cell_type": "code",
   "execution_count": 45,
   "metadata": {},
   "outputs": [
    {
     "output_type": "execute_result",
     "data": {
      "text/plain": [
       "      test_y  predicted  predicted_rounded\n",
       "1006       7   5.845366                  6\n",
       "552        6   5.601084                  6\n",
       "410        6   5.403951                  5\n",
       "920        5   5.731435                  6\n",
       "1381       5   5.612048                  6"
      ],
      "text/html": "<div>\n<style scoped>\n    .dataframe tbody tr th:only-of-type {\n        vertical-align: middle;\n    }\n\n    .dataframe tbody tr th {\n        vertical-align: top;\n    }\n\n    .dataframe thead th {\n        text-align: right;\n    }\n</style>\n<table border=\"1\" class=\"dataframe\">\n  <thead>\n    <tr style=\"text-align: right;\">\n      <th></th>\n      <th>test_y</th>\n      <th>predicted</th>\n      <th>predicted_rounded</th>\n    </tr>\n  </thead>\n  <tbody>\n    <tr>\n      <th>1006</th>\n      <td>7</td>\n      <td>5.845366</td>\n      <td>6</td>\n    </tr>\n    <tr>\n      <th>552</th>\n      <td>6</td>\n      <td>5.601084</td>\n      <td>6</td>\n    </tr>\n    <tr>\n      <th>410</th>\n      <td>6</td>\n      <td>5.403951</td>\n      <td>5</td>\n    </tr>\n    <tr>\n      <th>920</th>\n      <td>5</td>\n      <td>5.731435</td>\n      <td>6</td>\n    </tr>\n    <tr>\n      <th>1381</th>\n      <td>5</td>\n      <td>5.612048</td>\n      <td>6</td>\n    </tr>\n  </tbody>\n</table>\n</div>"
     },
     "metadata": {},
     "execution_count": 45
    }
   ],
   "source": [
    "alpha = 0.5\n",
    "l1_ratio = 0.5\n",
    "\n",
    "lr = ElasticNet(alpha = alpha, l1_ratio = l1_ratio, random_state = 42)\n",
    "lr.fit(train_x, train_y)\n",
    "\n",
    "predicted_qualities = lr.predict(test_x)\n",
    "df_prediction = pd.DataFrame({'test_y': test_y.quality, 'predicted': predicted_qualities})\n",
    "\n",
    "df_prediction['predicted_rounded'] = df_prediction['predicted'].apply(round)\n",
    "df_prediction.head()"
   ]
  },
  {
   "cell_type": "code",
   "execution_count": 46,
   "metadata": {},
   "outputs": [
    {
     "output_type": "stream",
     "name": "stdout",
     "text": [
      "\nElasticnet model: alpha = 0.5, l1_ration = 0.5\nMSE: 0.628681648690539\nRMSE: 0.7928944751292816\nMAE: 0.638227158446278\n\n"
     ]
    }
   ],
   "source": [
    "mse = mean_squared_error(test_y, predicted_qualities)\n",
    "rmse = np.sqrt(mse)\n",
    "r2 = r2_score(test_y, predicted_qualities)\n",
    "mae = mean_absolute_error(test_y, predicted_qualities)\n",
    "print(f\"\"\"\n",
    "Elasticnet model: alpha = {alpha}, l1_ration = {l1_ratio}\n",
    "MSE: {mse}\n",
    "RMSE: {rmse}\n",
    "MAE: {mae}\n",
    "\"\"\")"
   ]
  },
  {
   "cell_type": "code",
   "execution_count": 47,
   "metadata": {},
   "outputs": [
    {
     "output_type": "stream",
     "name": "stdout",
     "text": [
      "\nElasticnet model: alpha = 0.5, l1_ration = 0.5\nMSE: 0.628681648690539\nRMSE: 0.7928944751292816\nMAE: 0.638227158446278\n\n"
     ]
    }
   ],
   "source": [
    "mse = mean_squared_error(test_y, predicted_qualities)\n",
    "rmse = np.sqrt(mse)\n",
    "r2 = r2_score(test_y, predicted_qualities)\n",
    "mae = mean_absolute_error(test_y, predicted_qualities)\n",
    "print(f\"\"\"\n",
    "Elasticnet model: alpha = {alpha}, l1_ration = {l1_ratio}\n",
    "MSE: {mse}\n",
    "RMSE: {rmse}\n",
    "MAE: {mae}\n",
    "\"\"\")"
   ]
  },
  {
   "cell_type": "code",
   "execution_count": 48,
   "metadata": {},
   "outputs": [],
   "source": [
    "with mlflow.start_run(run_name = \"elasticnet\"):\n",
    "    mlflow.log_param('alpha',alpha)\n",
    "    mlflow.log_param('l1_ratio',alpha)\n",
    "    mlflow.log_param('rmse',alpha)\n",
    "    mlflow.log_param('r2',alpha)\n",
    "    mlflow.log_param('mae',alpha)\n",
    "    mlflow.log_param('idade do sergio',38)\n",
    "    mlflow.sklearn.log_model(lr, \"elasticnet_model\")"
   ]
  },
  {
   "cell_type": "code",
   "execution_count": null,
   "metadata": {},
   "outputs": [],
   "source": []
  }
 ]
}